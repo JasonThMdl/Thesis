{
  "cells": [
    {
      "cell_type": "markdown",
      "metadata": {
        "id": "view-in-github",
        "colab_type": "text"
      },
      "source": [
        "<a href=\"https://colab.research.google.com/github/JasonThMdl/Thesis/blob/main/Preprocess.ipynb\" target=\"_parent\"><img src=\"https://colab.research.google.com/assets/colab-badge.svg\" alt=\"Open In Colab\"/></a>"
      ]
    },
    {
      "cell_type": "code",
      "execution_count": null,
      "metadata": {
        "colab": {
          "background_save": true
        },
        "id": "8lTEVoQgikvk"
      },
      "outputs": [],
      "source": [
        "from pandas._libs.lib import map_infer_mask\n",
        "import pandas as pd\n",
        "import numpy as np\n",
        "from google.colab import drive\n",
        "from datetime import datetime,date,timedelta\n",
        "import pickle\n",
        "\n",
        "\n",
        "\n",
        "def get_date_range(df,span):\n",
        "  min_date=df.min()\n",
        "  max_date=df.max()\n",
        "  list_dates=[]\n",
        "  x=min_date\n",
        "\n",
        "  while x<max_date:\n",
        "    list_dates.append(x)\n",
        "    x=x+timedelta(span)\n",
        "  return list_dates\n",
        "\n",
        "\n",
        "drive.mount('/content/drive')\n",
        "path = \"/content/drive/MyDrive/Thesis/New_Code/data.csv\"\n",
        "df = pd.read_csv(path)\n",
        "\n",
        "df=df.drop(labels=['orders_id','customers_id'],axis=1) #drop useless columns\n",
        "df=df[df['price_per_unit'] !=0 ]                       #drop rows where price equals 0\n",
        "df=df.dropna()                                         #drop na rows\n",
        "df=df.sort_values(by =['products_id','date_purchased'],kind='quicksort',na_position='first')\n",
        "df.date_purchased=pd.to_datetime(df['date_purchased'],format='%Y-%m-%d %H:%M:%S')\n",
        "df.date_purchased=pd.to_datetime(df['date_purchased']).dt.date\n",
        "df=df.reset_index(drop=True)\n",
        "\n",
        "\n",
        "\n",
        "\n",
        "list_dates=get_date_range(df.date_purchased,7)\n",
        "\n",
        "print(len(df))\n",
        "for i in range(len(df)):#len(df)\n",
        "  x=1\n",
        "  print('i',i)\n",
        "  while True:\n",
        "    if df.date_purchased[i]<list_dates[x] :\n",
        "      df.date_purchased[i]=list_dates[x-1]\n",
        "      break\n",
        "    else:\n",
        "      if x<len(list_dates)-1:\n",
        "        x+=1\n",
        "      else:\n",
        "        df.date_purchased[i]=list_dates[len(list_dates)-1]\n",
        "        break\n",
        "\n",
        "\n",
        "df=df.groupby(['products_id','date_purchased']).agg({'products_quantity': np.sum, 'price_per_unit': np.mean})\n",
        "df=df.reset_index()\n",
        "price_mean=df.groupby(['products_id']).agg({'price_per_unit': np.mean})\n",
        "\n"
      ]
    },
    {
      "cell_type": "code",
      "execution_count": null,
      "metadata": {
        "id": "rPkS2JFoD8nU"
      },
      "outputs": [],
      "source": [
        "ss=0\n",
        "dictionary_list = []\n",
        "for i in (df.products_id.unique()):\n",
        "  print('ss',ss)\n",
        "  ss=ss+1\n",
        "  for x in range(len(list_dates)):#len(list_dates)\n",
        "    if not list_dates[x] in df[df['products_id']==i].date_purchased.values:\n",
        "      new_row = {'products_id':i, 'date_purchased':list_dates[x], 'products_quantity':0, 'price_per_unit':0}\n",
        "      dictionary_list.append(new_row)\n",
        "\n",
        "df1 = pd.DataFrame.from_records(dictionary_list)\n",
        "df= pd.concat([df1, df])\n",
        "\n",
        "df=df.sort_values(by =['products_id','date_purchased'],kind='quicksort',na_position='first')\n",
        "df=df.reset_index()\n",
        "df=df.drop(labels=['index'],axis=1)\n",
        "\n",
        "for i in range(len(df)):#len(df)\n",
        "  if df.price_per_unit[i]==0:\n",
        "   df.price_per_unit[i]=price_mean.loc[df.products_id[i]]\n",
        "\n",
        "\n",
        "f=df.groupby(['products_id']).agg({'products_quantity': np.sum})\n",
        "sorted=f.sort_values(['products_quantity'],ascending=False)\n",
        "sorted=sorted.reset_index()\n",
        "\n",
        "lista=[]\n",
        "\n",
        "for i in range(len(sorted)):#len(sorted)\n",
        "  print('i',i)\n",
        "  lista.append(df[df['products_id']==sorted.products_id[i]])\n",
        "\n",
        "\n",
        "df_final=pd.DataFrame()\n",
        "df_final = pd.concat(lista)\n",
        "df_final=df_final.reset_index(drop=True)\n",
        "\n",
        "pickle_out = open(\"important\",\"wb\")\n",
        "pickle.dump(df_final, pickle_out)\n",
        "pickle_out.close()"
      ]
    }
  ],
  "metadata": {
    "colab": {
      "provenance": [],
      "mount_file_id": "1J7wjEp5pgFo3b5b5PtxadkZLQra_BQdR",
      "authorship_tag": "ABX9TyMqwEz4Fi6CPuEGQoAuaMwv",
      "include_colab_link": true
    },
    "kernelspec": {
      "display_name": "Python 3",
      "name": "python3"
    },
    "language_info": {
      "name": "python"
    }
  },
  "nbformat": 4,
  "nbformat_minor": 0
}